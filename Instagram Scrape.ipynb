{
 "cells": [
  {
   "cell_type": "code",
   "execution_count": 67,
   "metadata": {},
   "outputs": [
    {
     "name": "stdout",
     "output_type": "stream",
     "text": [
      "['revviesenergy', 'enlytenstrips', '5hourenergy', 'stacker2energy', 'rhinorushofficial', 'Tweakerenergy', 'Vital4U', 'Guayaki', 'Lipovitand', 'drinkarizona', 'Herbalandgummies', 'NaturesWaybrands', 'NaturesWayoz', 'NaturesWaybelfast', 'NewNordicOfficial', 'Blockheadenergy', 'DriveGumdk', 'wug_gum', 'Natrolofficial', 'NaturesTruth', 'rungum', 'MightyGum', 'ChewPod', 'neurohacker', 'SimplyGum', 'ProperWild', 'drinkethans', 'humagel', 'Waterdrop', 'liquidiv', 'HVMN', 'seattlegummycompany', 'drinkkchill', 'korshots', 'vive100col', 'stationcoldbrew', 'tonicakombucha', 'kabisaenergydrink', 'kabisaenergydrinkuk', 'thelordjones', 'bosworld', 'gooddrinkbeverages']\n"
     ]
    }
   ],
   "source": [
    "import pandas as pd\n",
    "import os \n",
    "import csv\n",
    "from igramscraper.instagram import Instagram\n",
    "\n",
    "var = open('US brands_second half.csv')\n",
    "csv_f = csv.reader(var)\n",
    "usernames = []\n",
    "for row in csv_f:\n",
    "    handle = row[1]\n",
    "    usernames.append(handle)\n",
    "    \n",
    "print (usernames)"
   ]
  },
  {
   "cell_type": "code",
   "execution_count": 68,
   "metadata": {},
   "outputs": [],
   "source": [
    "instagram = Instagram()\n",
    "\n",
    "# # authentication supported\n",
    "# instagram.with_credentials('username', 'password', '/cachepath')\n",
    "# instagram.login(force=False,two_step_verificator=True)\n",
    "\n",
    "#Getting an account by username\n",
    "\n",
    "final = []\n",
    "try: \n",
    "    for x in usernames:\n",
    "        username = x\n",
    "        account = instagram.get_account(username)\n",
    "        followers = account.followed_by_count\n",
    "        followed = account.follows_count\n",
    "        current = []\n",
    "        current.extend([username, followers, followed])\n",
    "        final.append(current)\n",
    "except:\n",
    "        print(username)\n",
    "\n",
    "#     # Available fields\n",
    "#     print('Account info:')\n",
    "#     print('Id: ', account.identifier)\n",
    "#     print('Username: ', account.username)\n",
    "#     print('Full name: ', account.full_name)\n",
    "#     print('Number of published posts: ', account.media_count)\n",
    "#     print('Number of followers: ', account.followed_by_count)\n",
    "#     print('Number of follows: ', account.follows_count)\n",
    "#     print('Is private: ', account.is_private)\n",
    "#     print('Is verified: ', account.is_verified)\n",
    "\n",
    "    # or simply for printing use \n",
    "#     print(account)"
   ]
  },
  {
   "cell_type": "code",
   "execution_count": 69,
   "metadata": {},
   "outputs": [],
   "source": [
    "file = open('Output_US.csv', 'a+', newline = '')\n",
    "with file:\n",
    "    write = csv.writer(file)\n",
    "    write.writerows(final)"
   ]
  },
  {
   "cell_type": "code",
   "execution_count": null,
   "metadata": {},
   "outputs": [],
   "source": []
  }
 ],
 "metadata": {
  "kernelspec": {
   "display_name": ".venv",
   "language": "python",
   "name": ".venv"
  },
  "language_info": {
   "codemirror_mode": {
    "name": "ipython",
    "version": 3
   },
   "file_extension": ".py",
   "mimetype": "text/x-python",
   "name": "python",
   "nbconvert_exporter": "python",
   "pygments_lexer": "ipython3",
   "version": "3.7.7"
  }
 },
 "nbformat": 4,
 "nbformat_minor": 4
}
